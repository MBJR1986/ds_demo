{
 "cells": [
  {
   "cell_type": "code",
   "execution_count": 3,
   "metadata": {
    "collapsed": true
   },
   "outputs": [],
   "source": [
    "#load libraries\n",
    "import pandas as pd\n",
    "from sklearn.model_selection import train_test_split\n",
    "from sklearn.linear_model import LogisticRegression"
   ]
  },
  {
   "cell_type": "code",
   "execution_count": 4,
   "metadata": {},
   "outputs": [
    {
     "data": {
      "text/html": [
       "<div>\n",
       "<style>\n",
       "    .dataframe thead tr:only-child th {\n",
       "        text-align: right;\n",
       "    }\n",
       "\n",
       "    .dataframe thead th {\n",
       "        text-align: left;\n",
       "    }\n",
       "\n",
       "    .dataframe tbody tr th {\n",
       "        vertical-align: top;\n",
       "    }\n",
       "</style>\n",
       "<table border=\"1\" class=\"dataframe\">\n",
       "  <thead>\n",
       "    <tr style=\"text-align: right;\">\n",
       "      <th></th>\n",
       "      <th>patientkey</th>\n",
       "      <th>admissionkey</th>\n",
       "      <th>StartOfCare</th>\n",
       "      <th>DischargeDate</th>\n",
       "      <th>TaskTargetDate</th>\n",
       "      <th>VisitDate</th>\n",
       "      <th>DischargeType</th>\n",
       "      <th>DischargeStatusDescription</th>\n",
       "      <th>TerminalDiagnosis</th>\n",
       "      <th>ICD10CodeShortDesc</th>\n",
       "      <th>...</th>\n",
       "      <th>Depression</th>\n",
       "      <th>Drowsiness</th>\n",
       "      <th>Lack_of_Appetite</th>\n",
       "      <th>Nausea</th>\n",
       "      <th>Pain</th>\n",
       "      <th>Shortness_of_Breath</th>\n",
       "      <th>Tiredness</th>\n",
       "      <th>Wellbeing</th>\n",
       "      <th>cutdate</th>\n",
       "      <th>death_within_7_days</th>\n",
       "    </tr>\n",
       "  </thead>\n",
       "  <tbody>\n",
       "    <tr>\n",
       "      <th>0</th>\n",
       "      <td>2839565</td>\n",
       "      <td>5567524</td>\n",
       "      <td>2017-05-01 00:00:00.000000</td>\n",
       "      <td>2017-07-03</td>\n",
       "      <td>2017-05-01 00:00:00.000</td>\n",
       "      <td>2017-05-01</td>\n",
       "      <td>Death</td>\n",
       "      <td>Expired at Long-term care facility or non skil...</td>\n",
       "      <td>G20</td>\n",
       "      <td>Parkinson's disease</td>\n",
       "      <td>...</td>\n",
       "      <td>0</td>\n",
       "      <td>9</td>\n",
       "      <td>8</td>\n",
       "      <td>0</td>\n",
       "      <td>3</td>\n",
       "      <td>7</td>\n",
       "      <td>9</td>\n",
       "      <td>8</td>\n",
       "      <td>2017-06-26</td>\n",
       "      <td>0</td>\n",
       "    </tr>\n",
       "    <tr>\n",
       "      <th>1</th>\n",
       "      <td>2839565</td>\n",
       "      <td>5567524</td>\n",
       "      <td>2017-05-01 00:00:00.000000</td>\n",
       "      <td>2017-07-03</td>\n",
       "      <td>2017-05-15 00:00:00.000</td>\n",
       "      <td>2017-05-15</td>\n",
       "      <td>Death</td>\n",
       "      <td>Expired at Long-term care facility or non skil...</td>\n",
       "      <td>G20</td>\n",
       "      <td>Parkinson's disease</td>\n",
       "      <td>...</td>\n",
       "      <td>11</td>\n",
       "      <td>8</td>\n",
       "      <td>8</td>\n",
       "      <td>0</td>\n",
       "      <td>0</td>\n",
       "      <td>7</td>\n",
       "      <td>8</td>\n",
       "      <td>8</td>\n",
       "      <td>2017-06-26</td>\n",
       "      <td>0</td>\n",
       "    </tr>\n",
       "    <tr>\n",
       "      <th>2</th>\n",
       "      <td>2839565</td>\n",
       "      <td>5567524</td>\n",
       "      <td>2017-05-01 00:00:00.000000</td>\n",
       "      <td>2017-07-03</td>\n",
       "      <td>2017-05-29 00:00:00.000</td>\n",
       "      <td>2017-05-29</td>\n",
       "      <td>Death</td>\n",
       "      <td>Expired at Long-term care facility or non skil...</td>\n",
       "      <td>G20</td>\n",
       "      <td>Parkinson's disease</td>\n",
       "      <td>...</td>\n",
       "      <td>11</td>\n",
       "      <td>8</td>\n",
       "      <td>8</td>\n",
       "      <td>0</td>\n",
       "      <td>0</td>\n",
       "      <td>7</td>\n",
       "      <td>9</td>\n",
       "      <td>8</td>\n",
       "      <td>2017-06-26</td>\n",
       "      <td>0</td>\n",
       "    </tr>\n",
       "    <tr>\n",
       "      <th>3</th>\n",
       "      <td>2839565</td>\n",
       "      <td>5567524</td>\n",
       "      <td>2017-05-01 00:00:00.000000</td>\n",
       "      <td>2017-07-03</td>\n",
       "      <td>2017-06-12 00:00:00.000</td>\n",
       "      <td>2017-06-12</td>\n",
       "      <td>Death</td>\n",
       "      <td>Expired at Long-term care facility or non skil...</td>\n",
       "      <td>G20</td>\n",
       "      <td>Parkinson's disease</td>\n",
       "      <td>...</td>\n",
       "      <td>11</td>\n",
       "      <td>8</td>\n",
       "      <td>8</td>\n",
       "      <td>0</td>\n",
       "      <td>0</td>\n",
       "      <td>7</td>\n",
       "      <td>8</td>\n",
       "      <td>8</td>\n",
       "      <td>2017-06-26</td>\n",
       "      <td>0</td>\n",
       "    </tr>\n",
       "    <tr>\n",
       "      <th>4</th>\n",
       "      <td>2839565</td>\n",
       "      <td>5567524</td>\n",
       "      <td>2017-05-01 00:00:00.000000</td>\n",
       "      <td>2017-07-03</td>\n",
       "      <td>2017-05-04 00:00:00.000</td>\n",
       "      <td>2017-05-04</td>\n",
       "      <td>Death</td>\n",
       "      <td>Expired at Long-term care facility or non skil...</td>\n",
       "      <td>G20</td>\n",
       "      <td>Parkinson's disease</td>\n",
       "      <td>...</td>\n",
       "      <td>0</td>\n",
       "      <td>0</td>\n",
       "      <td>0</td>\n",
       "      <td>0</td>\n",
       "      <td>0</td>\n",
       "      <td>0</td>\n",
       "      <td>11</td>\n",
       "      <td>11</td>\n",
       "      <td>2017-06-26</td>\n",
       "      <td>0</td>\n",
       "    </tr>\n",
       "  </tbody>\n",
       "</table>\n",
       "<p>5 rows × 25 columns</p>\n",
       "</div>"
      ],
      "text/plain": [
       "   patientkey  admissionkey                 StartOfCare DischargeDate  \\\n",
       "0     2839565       5567524  2017-05-01 00:00:00.000000    2017-07-03   \n",
       "1     2839565       5567524  2017-05-01 00:00:00.000000    2017-07-03   \n",
       "2     2839565       5567524  2017-05-01 00:00:00.000000    2017-07-03   \n",
       "3     2839565       5567524  2017-05-01 00:00:00.000000    2017-07-03   \n",
       "4     2839565       5567524  2017-05-01 00:00:00.000000    2017-07-03   \n",
       "\n",
       "            TaskTargetDate  VisitDate DischargeType  \\\n",
       "0  2017-05-01 00:00:00.000 2017-05-01         Death   \n",
       "1  2017-05-15 00:00:00.000 2017-05-15         Death   \n",
       "2  2017-05-29 00:00:00.000 2017-05-29         Death   \n",
       "3  2017-06-12 00:00:00.000 2017-06-12         Death   \n",
       "4  2017-05-04 00:00:00.000 2017-05-04         Death   \n",
       "\n",
       "                          DischargeStatusDescription TerminalDiagnosis  \\\n",
       "0  Expired at Long-term care facility or non skil...               G20   \n",
       "1  Expired at Long-term care facility or non skil...               G20   \n",
       "2  Expired at Long-term care facility or non skil...               G20   \n",
       "3  Expired at Long-term care facility or non skil...               G20   \n",
       "4  Expired at Long-term care facility or non skil...               G20   \n",
       "\n",
       "    ICD10CodeShortDesc         ...          Depression Drowsiness  \\\n",
       "0  Parkinson's disease         ...                   0          9   \n",
       "1  Parkinson's disease         ...                  11          8   \n",
       "2  Parkinson's disease         ...                  11          8   \n",
       "3  Parkinson's disease         ...                  11          8   \n",
       "4  Parkinson's disease         ...                   0          0   \n",
       "\n",
       "   Lack_of_Appetite  Nausea  Pain  Shortness_of_Breath  Tiredness  Wellbeing  \\\n",
       "0                 8       0     3                    7          9          8   \n",
       "1                 8       0     0                    7          8          8   \n",
       "2                 8       0     0                    7          9          8   \n",
       "3                 8       0     0                    7          8          8   \n",
       "4                 0       0     0                    0         11         11   \n",
       "\n",
       "     cutdate  death_within_7_days  \n",
       "0 2017-06-26                    0  \n",
       "1 2017-06-26                    0  \n",
       "2 2017-06-26                    0  \n",
       "3 2017-06-26                    0  \n",
       "4 2017-06-26                    0  \n",
       "\n",
       "[5 rows x 25 columns]"
      ]
     },
     "execution_count": 4,
     "metadata": {},
     "output_type": "execute_result"
    }
   ],
   "source": [
    "# load data from exploratory_data_analysis notebook for quick logistic regression\n",
    "%store -r df\n",
    "df.head()"
   ]
  },
  {
   "cell_type": "code",
   "execution_count": 5,
   "metadata": {},
   "outputs": [
    {
     "name": "stdout",
     "output_type": "stream",
     "text": [
      "<class 'pandas.core.frame.DataFrame'>\n",
      "RangeIndex: 349779 entries, 0 to 349778\n",
      "Data columns (total 25 columns):\n",
      "patientkey                    349779 non-null int64\n",
      "admissionkey                  349779 non-null int64\n",
      "StartOfCare                   349779 non-null object\n",
      "DischargeDate                 189408 non-null datetime64[ns]\n",
      "TaskTargetDate                349779 non-null object\n",
      "VisitDate                     349779 non-null datetime64[ns]\n",
      "DischargeType                 190206 non-null object\n",
      "DischargeStatusDescription    190206 non-null object\n",
      "TerminalDiagnosis             349733 non-null object\n",
      "ICD10CodeShortDesc            349733 non-null object\n",
      "ReferralType                  349778 non-null object\n",
      "LevelofCare                   348963 non-null object\n",
      "mortality                     349779 non-null int64\n",
      "patienttaskkey                349779 non-null int64\n",
      "Anxiety                       349779 non-null int64\n",
      "Depression                    349779 non-null int64\n",
      "Drowsiness                    349779 non-null int64\n",
      "Lack_of_Appetite              349779 non-null int64\n",
      "Nausea                        349779 non-null int64\n",
      "Pain                          349779 non-null int64\n",
      "Shortness_of_Breath           349779 non-null int64\n",
      "Tiredness                     349779 non-null int64\n",
      "Wellbeing                     349779 non-null int64\n",
      "cutdate                       189408 non-null datetime64[ns]\n",
      "death_within_7_days           349779 non-null int32\n",
      "dtypes: datetime64[ns](3), int32(1), int64(13), object(8)\n",
      "memory usage: 65.4+ MB\n"
     ]
    }
   ],
   "source": [
    "df.info()"
   ]
  },
  {
   "cell_type": "markdown",
   "metadata": {},
   "source": [
    "'df' dataframe contains basic identifier columns, as well as a number of datetime objects, pivoted ESAS results, and the outcome of interest: 'death_within_7_days'. What this dataframe does not do (yet) is expand out the ICD10CodeShortDesc column, as this would expand the number of variables from 25 to ~1400. I have done this in another object (df_merge) and if exploratory_data_analysis notebook has been processed, that object is also available for import. Doing so later with a random forest model...<br>\n",
    "- All the data for training and testing will be from the df_merge dataframe. df is loaded as a reference for which columns to include in smaller logit model before testing random forest on 1400 variable model.\n",
    "<br>\n",
    "### Train/Test data splitting\n",
    "I'll need to split the data into a few objects for data analysis. First, I plan on doing a 70/30% data split for a model building/training data set (what I use to make and tune the models), as well as a test set for a FINAL model evaluation. Within the training set itself, I'll also further split the data into an 80/20% split, with a hold out set used to test the trained models prior to a final validation test. Given the amount of data (~350,000 instances), cross-validation methods could be used in the future, but for a quick project, I'll hold out at this time."
   ]
  },
  {
   "cell_type": "code",
   "execution_count": 6,
   "metadata": {},
   "outputs": [
    {
     "data": {
      "text/html": [
       "<div>\n",
       "<style>\n",
       "    .dataframe thead tr:only-child th {\n",
       "        text-align: right;\n",
       "    }\n",
       "\n",
       "    .dataframe thead th {\n",
       "        text-align: left;\n",
       "    }\n",
       "\n",
       "    .dataframe tbody tr th {\n",
       "        vertical-align: top;\n",
       "    }\n",
       "</style>\n",
       "<table border=\"1\" class=\"dataframe\">\n",
       "  <thead>\n",
       "    <tr style=\"text-align: right;\">\n",
       "      <th></th>\n",
       "      <th>patientkey</th>\n",
       "      <th>admissionkey</th>\n",
       "      <th>StartOfCare</th>\n",
       "      <th>DischargeDate</th>\n",
       "      <th>TaskTargetDate</th>\n",
       "      <th>VisitDate</th>\n",
       "      <th>DischargeType</th>\n",
       "      <th>DischargeStatusDescription</th>\n",
       "      <th>TerminalDiagnosis</th>\n",
       "      <th>ICD10CodeShortDesc</th>\n",
       "      <th>...</th>\n",
       "      <th>Venous insufficiency (chronic) (peripheral)</th>\n",
       "      <th>Ventricular septal defect</th>\n",
       "      <th>Ventricular tachycardia</th>\n",
       "      <th>Vesical fistula, not elsewhere classified</th>\n",
       "      <th>Viral pneumonia, unspecified</th>\n",
       "      <th>Volunteer activity</th>\n",
       "      <th>Waldenstrom macroglobulinemia</th>\n",
       "      <th>Wernicke's encephalopathy</th>\n",
       "      <th>X-linked adrenoleukodystrophy, unspecified type</th>\n",
       "      <th>Zoster encephalitis</th>\n",
       "    </tr>\n",
       "  </thead>\n",
       "  <tbody>\n",
       "    <tr>\n",
       "      <th>152342</th>\n",
       "      <td>1605720</td>\n",
       "      <td>5915383</td>\n",
       "      <td>2017-08-02 00:00:00.000000</td>\n",
       "      <td>NaT</td>\n",
       "      <td>2017-08-02 00:00:00.000</td>\n",
       "      <td>2017-08-02</td>\n",
       "      <td>None</td>\n",
       "      <td>None</td>\n",
       "      <td>G35</td>\n",
       "      <td>Multiple sclerosis</td>\n",
       "      <td>...</td>\n",
       "      <td>0</td>\n",
       "      <td>0</td>\n",
       "      <td>0</td>\n",
       "      <td>0</td>\n",
       "      <td>0</td>\n",
       "      <td>0</td>\n",
       "      <td>0</td>\n",
       "      <td>0</td>\n",
       "      <td>0</td>\n",
       "      <td>0</td>\n",
       "    </tr>\n",
       "    <tr>\n",
       "      <th>152343</th>\n",
       "      <td>1605720</td>\n",
       "      <td>5915383</td>\n",
       "      <td>2017-08-02 00:00:00.000000</td>\n",
       "      <td>NaT</td>\n",
       "      <td>2017-08-07 00:00:00.000</td>\n",
       "      <td>2017-08-07</td>\n",
       "      <td>None</td>\n",
       "      <td>None</td>\n",
       "      <td>G35</td>\n",
       "      <td>Multiple sclerosis</td>\n",
       "      <td>...</td>\n",
       "      <td>0</td>\n",
       "      <td>0</td>\n",
       "      <td>0</td>\n",
       "      <td>0</td>\n",
       "      <td>0</td>\n",
       "      <td>0</td>\n",
       "      <td>0</td>\n",
       "      <td>0</td>\n",
       "      <td>0</td>\n",
       "      <td>0</td>\n",
       "    </tr>\n",
       "    <tr>\n",
       "      <th>152344</th>\n",
       "      <td>1605720</td>\n",
       "      <td>5915383</td>\n",
       "      <td>2017-08-02 00:00:00.000000</td>\n",
       "      <td>NaT</td>\n",
       "      <td>2017-08-09 00:00:00.000</td>\n",
       "      <td>2017-08-09</td>\n",
       "      <td>None</td>\n",
       "      <td>None</td>\n",
       "      <td>G35</td>\n",
       "      <td>Multiple sclerosis</td>\n",
       "      <td>...</td>\n",
       "      <td>0</td>\n",
       "      <td>0</td>\n",
       "      <td>0</td>\n",
       "      <td>0</td>\n",
       "      <td>0</td>\n",
       "      <td>0</td>\n",
       "      <td>0</td>\n",
       "      <td>0</td>\n",
       "      <td>0</td>\n",
       "      <td>0</td>\n",
       "    </tr>\n",
       "    <tr>\n",
       "      <th>152345</th>\n",
       "      <td>1605720</td>\n",
       "      <td>5915383</td>\n",
       "      <td>2017-08-02 00:00:00.000000</td>\n",
       "      <td>NaT</td>\n",
       "      <td>2017-08-14 00:00:00.000</td>\n",
       "      <td>2017-08-14</td>\n",
       "      <td>None</td>\n",
       "      <td>None</td>\n",
       "      <td>G35</td>\n",
       "      <td>Multiple sclerosis</td>\n",
       "      <td>...</td>\n",
       "      <td>0</td>\n",
       "      <td>0</td>\n",
       "      <td>0</td>\n",
       "      <td>0</td>\n",
       "      <td>0</td>\n",
       "      <td>0</td>\n",
       "      <td>0</td>\n",
       "      <td>0</td>\n",
       "      <td>0</td>\n",
       "      <td>0</td>\n",
       "    </tr>\n",
       "    <tr>\n",
       "      <th>152349</th>\n",
       "      <td>1605720</td>\n",
       "      <td>5915383</td>\n",
       "      <td>2017-08-02 00:00:00.000000</td>\n",
       "      <td>NaT</td>\n",
       "      <td>2017-08-19 00:00:00.000</td>\n",
       "      <td>2017-08-19</td>\n",
       "      <td>None</td>\n",
       "      <td>None</td>\n",
       "      <td>G35</td>\n",
       "      <td>Multiple sclerosis</td>\n",
       "      <td>...</td>\n",
       "      <td>0</td>\n",
       "      <td>0</td>\n",
       "      <td>0</td>\n",
       "      <td>0</td>\n",
       "      <td>0</td>\n",
       "      <td>0</td>\n",
       "      <td>0</td>\n",
       "      <td>0</td>\n",
       "      <td>0</td>\n",
       "      <td>0</td>\n",
       "    </tr>\n",
       "  </tbody>\n",
       "</table>\n",
       "<p>5 rows × 1395 columns</p>\n",
       "</div>"
      ],
      "text/plain": [
       "        patientkey  admissionkey                 StartOfCare DischargeDate  \\\n",
       "152342     1605720       5915383  2017-08-02 00:00:00.000000           NaT   \n",
       "152343     1605720       5915383  2017-08-02 00:00:00.000000           NaT   \n",
       "152344     1605720       5915383  2017-08-02 00:00:00.000000           NaT   \n",
       "152345     1605720       5915383  2017-08-02 00:00:00.000000           NaT   \n",
       "152349     1605720       5915383  2017-08-02 00:00:00.000000           NaT   \n",
       "\n",
       "                 TaskTargetDate  VisitDate DischargeType  \\\n",
       "152342  2017-08-02 00:00:00.000 2017-08-02          None   \n",
       "152343  2017-08-07 00:00:00.000 2017-08-07          None   \n",
       "152344  2017-08-09 00:00:00.000 2017-08-09          None   \n",
       "152345  2017-08-14 00:00:00.000 2017-08-14          None   \n",
       "152349  2017-08-19 00:00:00.000 2017-08-19          None   \n",
       "\n",
       "       DischargeStatusDescription TerminalDiagnosis  ICD10CodeShortDesc  \\\n",
       "152342                       None               G35  Multiple sclerosis   \n",
       "152343                       None               G35  Multiple sclerosis   \n",
       "152344                       None               G35  Multiple sclerosis   \n",
       "152345                       None               G35  Multiple sclerosis   \n",
       "152349                       None               G35  Multiple sclerosis   \n",
       "\n",
       "               ...          Venous insufficiency (chronic) (peripheral)  \\\n",
       "152342         ...                                                    0   \n",
       "152343         ...                                                    0   \n",
       "152344         ...                                                    0   \n",
       "152345         ...                                                    0   \n",
       "152349         ...                                                    0   \n",
       "\n",
       "       Ventricular septal defect  Ventricular tachycardia  \\\n",
       "152342                         0                        0   \n",
       "152343                         0                        0   \n",
       "152344                         0                        0   \n",
       "152345                         0                        0   \n",
       "152349                         0                        0   \n",
       "\n",
       "        Vesical fistula, not elsewhere classified  \\\n",
       "152342                                          0   \n",
       "152343                                          0   \n",
       "152344                                          0   \n",
       "152345                                          0   \n",
       "152349                                          0   \n",
       "\n",
       "        Viral pneumonia, unspecified  Volunteer activity  \\\n",
       "152342                             0                   0   \n",
       "152343                             0                   0   \n",
       "152344                             0                   0   \n",
       "152345                             0                   0   \n",
       "152349                             0                   0   \n",
       "\n",
       "        Waldenstrom macroglobulinemia  Wernicke's encephalopathy  \\\n",
       "152342                              0                          0   \n",
       "152343                              0                          0   \n",
       "152344                              0                          0   \n",
       "152345                              0                          0   \n",
       "152349                              0                          0   \n",
       "\n",
       "        X-linked adrenoleukodystrophy, unspecified type  Zoster encephalitis  \n",
       "152342                                                0                    0  \n",
       "152343                                                0                    0  \n",
       "152344                                                0                    0  \n",
       "152345                                                0                    0  \n",
       "152349                                                0                    0  \n",
       "\n",
       "[5 rows x 1395 columns]"
      ]
     },
     "execution_count": 6,
     "metadata": {},
     "output_type": "execute_result"
    }
   ],
   "source": [
    "#load dataframe from other notebook\n",
    "%store -r df_merge \n",
    "df_merge.head()"
   ]
  },
  {
   "cell_type": "code",
   "execution_count": 7,
   "metadata": {
    "collapsed": true
   },
   "outputs": [],
   "source": [
    "y = df_merge['death_within_7_days'] # define the target variable (dependent variable) as y"
   ]
  },
  {
   "cell_type": "code",
   "execution_count": 8,
   "metadata": {},
   "outputs": [
    {
     "name": "stdout",
     "output_type": "stream",
     "text": [
      "<class 'pandas.core.frame.DataFrame'>\n",
      "Int64Index: 349779 entries, 152342 to 349778\n",
      "Columns: 1379 entries, Anxiety to Zoster encephalitis\n",
      "dtypes: int64(9), uint8(1370)\n",
      "memory usage: 483.7 MB\n"
     ]
    }
   ],
   "source": [
    "#drop unnecessary columns\n",
    "df_merge_dropped = df_merge.drop(['patientkey', 'admissionkey', 'StartOfCare', 'DischargeDate', 'TaskTargetDate',\n",
    "                                 'VisitDate', 'DischargeType', 'DischargeStatusDescription', 'TerminalDiagnosis',\n",
    "                                 'ICD10CodeShortDesc', 'ReferralType', 'LevelofCare', 'mortality', 'patienttaskkey',\n",
    "                                 'cutdate', 'death_within_7_days'], axis=1)\n",
    "df_merge_dropped.info()"
   ]
  },
  {
   "cell_type": "code",
   "execution_count": 9,
   "metadata": {},
   "outputs": [
    {
     "name": "stdout",
     "output_type": "stream",
     "text": [
      "(279823, 1379) (279823,)\n",
      "(69956, 1379) (69956,)\n"
     ]
    }
   ],
   "source": [
    "# create training and testing vars\n",
    "X_train, X_test, y_train, y_test = train_test_split(df_merge_dropped, y, test_size=0.2)\n",
    "print(X_train.shape, y_train.shape)\n",
    "print(X_test.shape, y_test.shape)"
   ]
  },
  {
   "cell_type": "code",
   "execution_count": 10,
   "metadata": {},
   "outputs": [
    {
     "name": "stdout",
     "output_type": "stream",
     "text": [
      "<class 'pandas.core.frame.DataFrame'>\n",
      "Int64Index: 279823 entries, 343487 to 100664\n",
      "Columns: 1379 entries, Anxiety to Zoster encephalitis\n",
      "dtypes: int64(9), uint8(1370)\n",
      "memory usage: 386.9 MB\n"
     ]
    }
   ],
   "source": [
    "X_train.info()"
   ]
  },
  {
   "cell_type": "markdown",
   "metadata": {},
   "source": [
    "Splitting full dataset (~350,000 rows or instances of the outcome variable) into a Training Set (X) and a Test/Validation set (y). Splitting occurred with a 80/20% split into the respective subsets. Resulting counts: X = 279,823 rows; y = 69,956 rows. Note, at this point, no cross validation is being undertaken for time constraints. Ideally, the Training set would undergo continued subsetting into various validation sets prior to testing models on the test set, but again, this would take extra time. Future work...<br>\n",
    "<br>\n",
    "At this point, I have two objects I plan to analyze that includes approximately ~1400 variables. This is too many for a simple logistic regression model, so I will cut out some of the variables to include to better structure the analysis. I'll further remove the variable from X and y sets, but save them as X_logit, y_logit, as I plan on using the full dataset for other model selection methods."
   ]
  },
  {
   "cell_type": "code",
   "execution_count": 11,
   "metadata": {
    "scrolled": true
   },
   "outputs": [
    {
     "data": {
      "text/html": [
       "<div>\n",
       "<style>\n",
       "    .dataframe thead tr:only-child th {\n",
       "        text-align: right;\n",
       "    }\n",
       "\n",
       "    .dataframe thead th {\n",
       "        text-align: left;\n",
       "    }\n",
       "\n",
       "    .dataframe tbody tr th {\n",
       "        vertical-align: top;\n",
       "    }\n",
       "</style>\n",
       "<table border=\"1\" class=\"dataframe\">\n",
       "  <thead>\n",
       "    <tr style=\"text-align: right;\">\n",
       "      <th></th>\n",
       "      <th>Anxiety</th>\n",
       "      <th>Depression</th>\n",
       "      <th>Lack_of_Appetite</th>\n",
       "      <th>Nausea</th>\n",
       "      <th>Pain</th>\n",
       "      <th>Shortness_of_Breath</th>\n",
       "      <th>Tiredness</th>\n",
       "      <th>Wellbeing</th>\n",
       "    </tr>\n",
       "  </thead>\n",
       "  <tbody>\n",
       "    <tr>\n",
       "      <th>343487</th>\n",
       "      <td>11</td>\n",
       "      <td>11</td>\n",
       "      <td>0</td>\n",
       "      <td>0</td>\n",
       "      <td>0</td>\n",
       "      <td>0</td>\n",
       "      <td>0</td>\n",
       "      <td>11</td>\n",
       "    </tr>\n",
       "    <tr>\n",
       "      <th>204008</th>\n",
       "      <td>2</td>\n",
       "      <td>0</td>\n",
       "      <td>4</td>\n",
       "      <td>0</td>\n",
       "      <td>0</td>\n",
       "      <td>0</td>\n",
       "      <td>7</td>\n",
       "      <td>5</td>\n",
       "    </tr>\n",
       "    <tr>\n",
       "      <th>232367</th>\n",
       "      <td>0</td>\n",
       "      <td>0</td>\n",
       "      <td>4</td>\n",
       "      <td>0</td>\n",
       "      <td>2</td>\n",
       "      <td>5</td>\n",
       "      <td>5</td>\n",
       "      <td>4</td>\n",
       "    </tr>\n",
       "    <tr>\n",
       "      <th>73687</th>\n",
       "      <td>5</td>\n",
       "      <td>0</td>\n",
       "      <td>3</td>\n",
       "      <td>0</td>\n",
       "      <td>0</td>\n",
       "      <td>2</td>\n",
       "      <td>9</td>\n",
       "      <td>5</td>\n",
       "    </tr>\n",
       "    <tr>\n",
       "      <th>175101</th>\n",
       "      <td>9</td>\n",
       "      <td>7</td>\n",
       "      <td>5</td>\n",
       "      <td>4</td>\n",
       "      <td>5</td>\n",
       "      <td>9</td>\n",
       "      <td>4</td>\n",
       "      <td>8</td>\n",
       "    </tr>\n",
       "  </tbody>\n",
       "</table>\n",
       "</div>"
      ],
      "text/plain": [
       "        Anxiety  Depression  Lack_of_Appetite  Nausea  Pain  \\\n",
       "343487       11          11                 0       0     0   \n",
       "204008        2           0                 4       0     0   \n",
       "232367        0           0                 4       0     2   \n",
       "73687         5           0                 3       0     0   \n",
       "175101        9           7                 5       4     5   \n",
       "\n",
       "        Shortness_of_Breath  Tiredness  Wellbeing  \n",
       "343487                    0          0         11  \n",
       "204008                    0          7          5  \n",
       "232367                    5          5          4  \n",
       "73687                     2          9          5  \n",
       "175101                    9          4          8  "
      ]
     },
     "execution_count": 11,
     "metadata": {},
     "output_type": "execute_result"
    }
   ],
   "source": [
    "#set columns to keep in dataframes\n",
    "X_train_logit = X_train[['Anxiety', 'Depression', 'Lack_of_Appetite', 'Nausea', 'Pain', 'Shortness_of_Breath',\n",
    "                       'Tiredness', 'Wellbeing']]\n",
    "X_train_logit.head()"
   ]
  },
  {
   "cell_type": "code",
   "execution_count": 12,
   "metadata": {},
   "outputs": [
    {
     "data": {
      "text/html": [
       "<div>\n",
       "<style>\n",
       "    .dataframe thead tr:only-child th {\n",
       "        text-align: right;\n",
       "    }\n",
       "\n",
       "    .dataframe thead th {\n",
       "        text-align: left;\n",
       "    }\n",
       "\n",
       "    .dataframe tbody tr th {\n",
       "        vertical-align: top;\n",
       "    }\n",
       "</style>\n",
       "<table border=\"1\" class=\"dataframe\">\n",
       "  <thead>\n",
       "    <tr style=\"text-align: right;\">\n",
       "      <th></th>\n",
       "      <th>Anxiety</th>\n",
       "      <th>Depression</th>\n",
       "      <th>Lack_of_Appetite</th>\n",
       "      <th>Nausea</th>\n",
       "      <th>Pain</th>\n",
       "      <th>Shortness_of_Breath</th>\n",
       "      <th>Tiredness</th>\n",
       "      <th>Wellbeing</th>\n",
       "    </tr>\n",
       "  </thead>\n",
       "  <tbody>\n",
       "    <tr>\n",
       "      <th>157685</th>\n",
       "      <td>2</td>\n",
       "      <td>2</td>\n",
       "      <td>2</td>\n",
       "      <td>0</td>\n",
       "      <td>2</td>\n",
       "      <td>1</td>\n",
       "      <td>9</td>\n",
       "      <td>9</td>\n",
       "    </tr>\n",
       "    <tr>\n",
       "      <th>45422</th>\n",
       "      <td>4</td>\n",
       "      <td>6</td>\n",
       "      <td>4</td>\n",
       "      <td>0</td>\n",
       "      <td>3</td>\n",
       "      <td>5</td>\n",
       "      <td>5</td>\n",
       "      <td>7</td>\n",
       "    </tr>\n",
       "    <tr>\n",
       "      <th>240098</th>\n",
       "      <td>4</td>\n",
       "      <td>11</td>\n",
       "      <td>5</td>\n",
       "      <td>0</td>\n",
       "      <td>0</td>\n",
       "      <td>0</td>\n",
       "      <td>7</td>\n",
       "      <td>8</td>\n",
       "    </tr>\n",
       "    <tr>\n",
       "      <th>88734</th>\n",
       "      <td>0</td>\n",
       "      <td>0</td>\n",
       "      <td>8</td>\n",
       "      <td>0</td>\n",
       "      <td>1</td>\n",
       "      <td>0</td>\n",
       "      <td>6</td>\n",
       "      <td>3</td>\n",
       "    </tr>\n",
       "    <tr>\n",
       "      <th>201632</th>\n",
       "      <td>2</td>\n",
       "      <td>7</td>\n",
       "      <td>4</td>\n",
       "      <td>0</td>\n",
       "      <td>0</td>\n",
       "      <td>0</td>\n",
       "      <td>7</td>\n",
       "      <td>5</td>\n",
       "    </tr>\n",
       "  </tbody>\n",
       "</table>\n",
       "</div>"
      ],
      "text/plain": [
       "        Anxiety  Depression  Lack_of_Appetite  Nausea  Pain  \\\n",
       "157685        2           2                 2       0     2   \n",
       "45422         4           6                 4       0     3   \n",
       "240098        4          11                 5       0     0   \n",
       "88734         0           0                 8       0     1   \n",
       "201632        2           7                 4       0     0   \n",
       "\n",
       "        Shortness_of_Breath  Tiredness  Wellbeing  \n",
       "157685                    1          9          9  \n",
       "45422                     5          5          7  \n",
       "240098                    0          7          8  \n",
       "88734                     0          6          3  \n",
       "201632                    0          7          5  "
      ]
     },
     "execution_count": 12,
     "metadata": {},
     "output_type": "execute_result"
    }
   ],
   "source": [
    "X_test_logit = X_test[['Anxiety', 'Depression', 'Lack_of_Appetite', 'Nausea', 'Pain', 'Shortness_of_Breath',\n",
    "                       'Tiredness', 'Wellbeing']]\n",
    "X_test_logit.head()"
   ]
  },
  {
   "cell_type": "markdown",
   "metadata": {},
   "source": [
    "## Logistic Regression models\n",
    "Now, I'm fitting a simple multivariable logistic regression model to see if the ESAS values alone can predict death within 7 days of the assessment date. Dates aren't included as a variable in the model, but I have filtered the outcome variable in respect to the date of the assessment (i.e. each Did the person pass away within 7 days of the VisitDate where the assessment was completed?)"
   ]
  },
  {
   "cell_type": "code",
   "execution_count": 13,
   "metadata": {
    "collapsed": true
   },
   "outputs": [],
   "source": [
    "#fit model\n",
    "logit = LogisticRegression()\n",
    "\n",
    "logit_model = logit.fit(X_train_logit, y_train)\n",
    "predictions = logit.predict(X_test_logit)"
   ]
  },
  {
   "cell_type": "code",
   "execution_count": 14,
   "metadata": {},
   "outputs": [
    {
     "data": {
      "text/plain": [
       "array([0, 0, 0, 0, 0, 0, 0, 0, 0, 0])"
      ]
     },
     "execution_count": 14,
     "metadata": {},
     "output_type": "execute_result"
    }
   ],
   "source": [
    "#check predictions\n",
    "predictions[0:10]"
   ]
  },
  {
   "cell_type": "code",
   "execution_count": 15,
   "metadata": {},
   "outputs": [
    {
     "name": "stdout",
     "output_type": "stream",
     "text": [
      "Accuracy of logistic regression classifier on test set: 0.8588827262850934\n"
     ]
    }
   ],
   "source": [
    "print(\"Accuracy of logistic regression classifier on test set:\", logit_model.score(X_test_logit, y_test))"
   ]
  },
  {
   "cell_type": "markdown",
   "metadata": {},
   "source": [
    "Okay, so this model has 86% accuracy. Let's not get carried away though. A model that says 'no' 100% of the time will likely be right quite a bit. 301,165 rows were not within the 7 day window for mortality, and thus 48,614 were. If I set the model to just say everyone isn't going to die within 7 days, I'd be right 86.1% of the time... So this model isn't great.<br>\n",
    "<br>\n",
    "let's look at some other performance metrics to identify where the problems lie."
   ]
  },
  {
   "cell_type": "code",
   "execution_count": 16,
   "metadata": {
    "scrolled": true
   },
   "outputs": [
    {
     "name": "stdout",
     "output_type": "stream",
     "text": [
      "[[59959   374]\n",
      " [ 9498   125]]\n"
     ]
    }
   ],
   "source": [
    "#print confusion matrix\n",
    "from sklearn.metrics import confusion_matrix\n",
    "logit_matrix = confusion_matrix(y_test, predictions)\n",
    "print(logit_matrix)"
   ]
  },
  {
   "cell_type": "markdown",
   "metadata": {},
   "source": [
    "So there were 59,909 + 199 = 60,108 correct predictions, but 9,848 errors. What is telling is that there were only 199 correct True Positives, meaning the model identified someone as dying in the next 7 days and that actually happened. In the test set, there were roughly 9500 instances of someone passing away in the next 7 days, so a True Positive count of 199 is pretty terrible. We want to see the lower left quadrant decrease significantly. These cases are known as True negatives, and for the use case of mortality prediction of hospice patients, we want to see this value as low as possible."
   ]
  },
  {
   "cell_type": "code",
   "execution_count": 17,
   "metadata": {},
   "outputs": [
    {
     "name": "stdout",
     "output_type": "stream",
     "text": [
      "             precision    recall  f1-score   support\n",
      "\n",
      "          0       0.86      0.99      0.92     60333\n",
      "          1       0.25      0.01      0.02      9623\n",
      "\n",
      "avg / total       0.78      0.86      0.80     69956\n",
      "\n"
     ]
    }
   ],
   "source": [
    "#Other performance metrics\n",
    "from sklearn.metrics import classification_report\n",
    "print(classification_report(y_test, predictions))"
   ]
  },
  {
   "cell_type": "markdown",
   "metadata": {},
   "source": [
    "Some variable descriptions:\n",
    "- Precision: The ability for the model to not label a sample as positive if it is actually negative. Meaning Finding True negatives (someone isn't dying in the next 7 days, and model agrees). Also referred to as Positive Predictive Value (PPV)\n",
    "- Recall: The ability of the model to find all true positive events. Someone dies within 7 days, and model agrees. Also referred to as sensitivity.\n",
    "- F-1: Balance accuracy. This is important, as the data is heavily unbalanced.\n",
    "- support: just counts of each outcome instance. 1 = death within 7 days.<br>\n",
    "<br>\n",
    "    Looking at these stats, I think we can improve on some of these. Precision is a bit low. Recall for '1' events is incredibly low and should be improved with other methods and data."
   ]
  },
  {
   "cell_type": "code",
   "execution_count": 18,
   "metadata": {},
   "outputs": [
    {
     "name": "stdout",
     "output_type": "stream",
     "text": [
      "Accuracy of logistic regression classifier on test set: 0.7747298301789697\n"
     ]
    }
   ],
   "source": [
    "#Re-balancing model for improvement in performance\n",
    "#fit model\n",
    "logit_bal = LogisticRegression(class_weight=\"balanced\")#balancing for outcomes\n",
    "\n",
    "logit_bal_model = logit_bal.fit(X_train_logit, y_train)\n",
    "predictions = logit_bal.predict(X_test_logit)\n",
    "\n",
    "print(\"Accuracy of logistic regression classifier on test set:\", logit_bal_model.score(X_test_logit, y_test))"
   ]
  },
  {
   "cell_type": "markdown",
   "metadata": {},
   "source": [
    "On the surface, re-balancing the model results in worse performance, as accuracy was 78% with this model, and 86% with the first logistic regression build. Looking into the errors...."
   ]
  },
  {
   "cell_type": "code",
   "execution_count": 19,
   "metadata": {},
   "outputs": [
    {
     "name": "stdout",
     "output_type": "stream",
     "text": [
      "[[47906 12427]\n",
      " [ 3332  6291]]\n"
     ]
    }
   ],
   "source": [
    "#print confusion matrix\n",
    "logit_bal_matrix = confusion_matrix(y_test, predictions)\n",
    "print(logit_bal_matrix)"
   ]
  },
  {
   "cell_type": "markdown",
   "metadata": {},
   "source": [
    "for our purpose of identifying the individuals at risk for dying in the next 7 days, this does much better. 6,121 were correctly identified as dying, when the outcome was true (True Positives). Additionally, 48,106 were correctly not identified when they didn't. The false positive increased pretty significantly (599 to 12,674 with this model), but in the grand scheme of things, this error might be of less importance (?). The False Positives (model says no death, but they do die) drastically decreased from 9,280 to 3,385 instances. To me, this model is more informative, despite having worse 'accuracy'."
   ]
  },
  {
   "cell_type": "code",
   "execution_count": 20,
   "metadata": {},
   "outputs": [
    {
     "name": "stdout",
     "output_type": "stream",
     "text": [
      "             precision    recall  f1-score   support\n",
      "\n",
      "          0       0.93      0.79      0.86     60333\n",
      "          1       0.34      0.65      0.44      9623\n",
      "\n",
      "avg / total       0.85      0.77      0.80     69956\n",
      "\n"
     ]
    }
   ],
   "source": [
    "#Other performance metrics\n",
    "print(classification_report(y_test, predictions))"
   ]
  },
  {
   "cell_type": "markdown",
   "metadata": {},
   "source": [
    "Other performance statistics also improved."
   ]
  },
  {
   "cell_type": "markdown",
   "metadata": {},
   "source": [
    "Assessing variable importance: Odds-ratios\n"
   ]
  },
  {
   "cell_type": "code",
   "execution_count": 21,
   "metadata": {},
   "outputs": [
    {
     "name": "stderr",
     "output_type": "stream",
     "text": [
      "C:\\tools\\Anaconda\\lib\\site-packages\\statsmodels\\compat\\pandas.py:56: FutureWarning: The pandas.core.datetools module is deprecated and will be removed in a future version. Please use the pandas.tseries module instead.\n",
      "  from pandas.core import datetools\n"
     ]
    },
    {
     "name": "stdout",
     "output_type": "stream",
     "text": [
      "Optimization terminated successfully.\n",
      "         Current function value: 0.588633\n",
      "         Iterations 7\n"
     ]
    },
    {
     "data": {
      "text/plain": [
       "Anxiety               -0.013275\n",
       "Depression             0.007908\n",
       "Lack_of_Appetite       0.004432\n",
       "Nausea                 0.019221\n",
       "Pain                  -0.032590\n",
       "Shortness_of_Breath   -0.011688\n",
       "Tiredness             -0.096718\n",
       "Wellbeing             -0.041947\n",
       "dtype: float64"
      ]
     },
     "execution_count": 21,
     "metadata": {},
     "output_type": "execute_result"
    }
   ],
   "source": [
    "import statsmodels.api as sm\n",
    "import numpy as np\n",
    "res = sm.Logit(y_train, X_train_logit)\n",
    "\n",
    "res.fit().params"
   ]
  },
  {
   "cell_type": "code",
   "execution_count": 22,
   "metadata": {},
   "outputs": [
    {
     "name": "stdout",
     "output_type": "stream",
     "text": [
      "Optimization terminated successfully.\n",
      "         Current function value: 0.588633\n",
      "         Iterations 7\n",
      "                            Logit Regression Results                           \n",
      "===============================================================================\n",
      "Dep. Variable:     death_within_7_days   No. Observations:               279823\n",
      "Model:                           Logit   Df Residuals:                   279815\n",
      "Method:                            MLE   Df Model:                            7\n",
      "Date:                 Mon, 12 Feb 2018   Pseudo R-squ.:                 -0.4579\n",
      "Time:                         15:46:15   Log-Likelihood:            -1.6471e+05\n",
      "converged:                        True   LL-Null:                   -1.1298e+05\n",
      "                                         LLR p-value:                     1.000\n",
      "=======================================================================================\n",
      "                          coef    std err          z      P>|z|      [0.025      0.975]\n",
      "---------------------------------------------------------------------------------------\n",
      "Anxiety                -0.0133      0.001    -16.087      0.000      -0.015      -0.012\n",
      "Depression              0.0079      0.001     14.073      0.000       0.007       0.009\n",
      "Lack_of_Appetite        0.0044      0.001      7.291      0.000       0.003       0.006\n",
      "Nausea                  0.0192      0.001     29.224      0.000       0.018       0.021\n",
      "Pain                   -0.0326      0.001    -22.771      0.000      -0.035      -0.030\n",
      "Shortness_of_Breath    -0.0117      0.001    -14.157      0.000      -0.013      -0.010\n",
      "Tiredness              -0.0967      0.001    -77.711      0.000      -0.099      -0.094\n",
      "Wellbeing              -0.0419      0.001    -42.967      0.000      -0.044      -0.040\n",
      "=======================================================================================\n"
     ]
    }
   ],
   "source": [
    "result = res.fit()\n",
    "\n",
    "from scipy import stats\n",
    "stats.chisqprob = lambda chisq, df: stats.chi2.sf(chisq, df)\n",
    "\n",
    "print(result.summary())"
   ]
  },
  {
   "cell_type": "code",
   "execution_count": 23,
   "metadata": {},
   "outputs": [
    {
     "name": "stdout",
     "output_type": "stream",
     "text": [
      "Anxiety                0.986812\n",
      "Depression             1.007940\n",
      "Lack_of_Appetite       1.004442\n",
      "Nausea                 1.019407\n",
      "Pain                   0.967935\n",
      "Shortness_of_Breath    0.988380\n",
      "Tiredness              0.907812\n",
      "Wellbeing              0.958920\n",
      "dtype: float64\n"
     ]
    }
   ],
   "source": [
    "print(np.exp(result.params))"
   ]
  },
  {
   "cell_type": "code",
   "execution_count": 24,
   "metadata": {},
   "outputs": [
    {
     "name": "stdout",
     "output_type": "stream",
     "text": [
      "                         2.5%     97.5%        OR\n",
      "Anxiety              0.985218  0.988410  0.986812\n",
      "Depression           1.006830  1.009050  1.007940\n",
      "Lack_of_Appetite     1.003246  1.005640  1.004442\n",
      "Nausea               1.018094  1.020722  1.019407\n",
      "Pain                 0.965224  0.970654  0.967935\n",
      "Shortness_of_Breath  0.986782  0.989981  0.988380\n",
      "Tiredness            0.905600  0.910029  0.907812\n",
      "Wellbeing            0.957087  0.960757  0.958920\n"
     ]
    }
   ],
   "source": [
    "params = result.params\n",
    "conf = result.conf_int()\n",
    "conf['OR'] = params\n",
    "conf.columns = ['2.5%', '97.5%', 'OR']\n",
    "print(np.exp(conf))"
   ]
  },
  {
   "cell_type": "markdown",
   "metadata": {},
   "source": [
    "Most predictive variable was Nausea, followed by depression and lack of appetite. Odds ratios are pretty low, likely to variability within the sample, and size of data. For a more thorough analysis, variables would be added in a step-wise fashion to see how each improves or disproves the model. This is the ideal method, and if given more time, the way I would approach the analysis."
   ]
  },
  {
   "cell_type": "markdown",
   "metadata": {},
   "source": [
    "# Tree-based learners (Ensemble Random Forest)"
   ]
  },
  {
   "cell_type": "markdown",
   "metadata": {},
   "source": [
    "Decision-tree based models are usually great performers and often one of the first true 'machine learning' methods I implement. I love them because they usually perform well, and are still interpretable from a clinical perspective, as the models are built from clinical decision 'rules' (e.g. If age > 65 and weight < 170, do X..). Additionally, tree-based methods also have built-in variable 'importance' indicators, which allows me to include the entire dataset and variables (1,400) in the analysis.<br>\n",
    "<br>\n",
    "The remaining model here will be a Random Forest model to hopefully improve on the performance of the existing logistic regression output."
   ]
  },
  {
   "cell_type": "markdown",
   "metadata": {},
   "source": [
    "I'll first build a simple decision tree from the logit data (only the ESAS data) for comparison purposes."
   ]
  },
  {
   "cell_type": "code",
   "execution_count": 25,
   "metadata": {},
   "outputs": [
    {
     "data": {
      "text/plain": [
       "DecisionTreeClassifier(class_weight=None, criterion='entropy', max_depth=3,\n",
       "            max_features=None, max_leaf_nodes=None,\n",
       "            min_impurity_split=1e-07, min_samples_leaf=100,\n",
       "            min_samples_split=2, min_weight_fraction_leaf=0.0,\n",
       "            presort=False, random_state=100, splitter='best')"
      ]
     },
     "execution_count": 25,
     "metadata": {},
     "output_type": "execute_result"
    }
   ],
   "source": [
    "from sklearn.tree import DecisionTreeClassifier\n",
    "from sklearn.metrics import accuracy_score\n",
    "tree = DecisionTreeClassifier(criterion = 'entropy', random_state = 100, max_depth = 3, min_samples_leaf = 100)\n",
    "tree.fit(X_train_logit, y_train)"
   ]
  },
  {
   "cell_type": "code",
   "execution_count": 26,
   "metadata": {},
   "outputs": [
    {
     "name": "stdout",
     "output_type": "stream",
     "text": [
      "Accuracy of the decision tree model is:  0.8624421064669221\n"
     ]
    }
   ],
   "source": [
    "#accuracy\n",
    "y_pred_tree = tree.predict(X_test_logit)\n",
    "print(\"Accuracy of the decision tree model is: \", accuracy_score(y_test,y_pred_tree))"
   ]
  },
  {
   "cell_type": "markdown",
   "metadata": {},
   "source": [
    "This model seems to perform pretty well, but concerningly, is similar to the accuracy of just selecting everyone as not dying within 7 days. Looking at the confusion  matrix and performance statistics...."
   ]
  },
  {
   "cell_type": "code",
   "execution_count": 27,
   "metadata": {},
   "outputs": [
    {
     "name": "stdout",
     "output_type": "stream",
     "text": [
      "[[60333     0]\n",
      " [ 9623     0]]\n"
     ]
    }
   ],
   "source": [
    "tree_matrix = confusion_matrix(y_test, y_pred_tree)\n",
    "print(tree_matrix)"
   ]
  },
  {
   "cell_type": "markdown",
   "metadata": {},
   "source": [
    "So the one-tree decision tree method did exactly that. It said All people wouldn't die in 7 days, and was right about 86% of time. Looks good, but not helpful clinically.<br>\n",
    "<br>\n",
    "Adding multiple decision trees together produces whats called a random forest, which is an ensemble learner (takes the ensemble of multiple trees and combines it into one model)."
   ]
  },
  {
   "cell_type": "code",
   "execution_count": 28,
   "metadata": {
    "collapsed": true
   },
   "outputs": [],
   "source": [
    "from sklearn.ensemble import RandomForestClassifier\n",
    "\n",
    "rf = RandomForestClassifier(n_estimators = 200)\n",
    "rf.fit(X_train_logit, y_train)\n",
    "rf_pred = rf.predict(X_test_logit)\n",
    "    "
   ]
  },
  {
   "cell_type": "code",
   "execution_count": 29,
   "metadata": {},
   "outputs": [
    {
     "name": "stdout",
     "output_type": "stream",
     "text": [
      "Accuracy of Random Forest model is:  0.8968351535250729\n"
     ]
    }
   ],
   "source": [
    "print(\"Accuracy of Random Forest model is: \", accuracy_score(y_test, rf_pred))"
   ]
  },
  {
   "cell_type": "markdown",
   "metadata": {},
   "source": [
    "Best model yet. The model is right roughly 89.8% of time. Looking into errors and other metrics..."
   ]
  },
  {
   "cell_type": "code",
   "execution_count": 30,
   "metadata": {},
   "outputs": [
    {
     "name": "stdout",
     "output_type": "stream",
     "text": [
      "[[58690  1643]\n",
      " [ 5574  4049]]\n"
     ]
    }
   ],
   "source": [
    "rf_matrix = confusion_matrix(y_test, rf_pred)\n",
    "print(rf_matrix)"
   ]
  },
  {
   "cell_type": "markdown",
   "metadata": {},
   "source": [
    "Definitely better than the first tree model. Correctly identified 3,956 people as death in 7 days, and missed 5,523 (model said no, but they actually did...). This is slightly more than the balanced logistic regression model, but in the end, there are way fewer false positives."
   ]
  },
  {
   "cell_type": "code",
   "execution_count": 31,
   "metadata": {},
   "outputs": [
    {
     "name": "stdout",
     "output_type": "stream",
     "text": [
      "             precision    recall  f1-score   support\n",
      "\n",
      "          0       0.97      0.91      0.94     64264\n",
      "          1       0.42      0.71      0.53      5692\n",
      "\n",
      "avg / total       0.93      0.90      0.91     69956\n",
      "\n"
     ]
    }
   ],
   "source": [
    "print(classification_report(rf_pred, y_test))"
   ]
  },
  {
   "cell_type": "markdown",
   "metadata": {},
   "source": [
    "Again, this model produces the optimal outcomes. It balances best the continuum of correctly identifying people, but also minimizes false positives and false negatives. If moving forward and this dataset was all the information we had, I'd recommend this moving forward."
   ]
  },
  {
   "cell_type": "code",
   "execution_count": 32,
   "metadata": {},
   "outputs": [
    {
     "name": "stdout",
     "output_type": "stream",
     "text": [
      "Feature ranking:\n",
      "1. feature 2 (0.240309)\n",
      "2. feature 6 (0.156870)\n",
      "3. feature 7 (0.129227)\n",
      "4. feature 5 (0.124132)\n",
      "5. feature 0 (0.108364)\n",
      "6. feature 4 (0.099258)\n",
      "7. feature 1 (0.089341)\n",
      "8. feature 3 (0.052499)\n"
     ]
    }
   ],
   "source": [
    "import numpy as np\n",
    "import \n",
    "\n",
    "importances = rf.feature_importances_\n",
    "std = np.std([tree.feature_importances_ for tree in rf.estimators_],\n",
    "             axis=0)\n",
    "indices = np.argsort(importances)[::-1]\n",
    "\n",
    "# Print the feature ranking\n",
    "print(\"Feature ranking:\")\n",
    "\n",
    "for f in range(X_train_logit.shape[1]):\n",
    "    print(\"%d. feature %d (%f)\" % (f + 1, indices[f], importances[indices[f]]))\n",
    "    \n",
    "# Plot the feature importances of the forest\n",
    "plt.figure(figsize=(8,8))\n",
    "plt.title(\"Feature importances\")\n",
    "plt.bar(range(x_train.shape[1]), importances[indices],\n",
    "   color=\"r\", yerr=std[indices], align=\"center\")\n",
    "feature_names = x_dummies.columns\n",
    "plt.xticks(range(x_dummies.shape[1]), feature_names)\n",
    "plt.xticks(rotation=90)\n",
    "plt.xlim([-1, x_dummies.shape[1]])\n",
    "plt.show()"
   ]
  },
  {
   "cell_type": "markdown",
   "metadata": {},
   "source": [
    "<br>\n",
    "# Random Forest with Full Dataset\n",
    "Same method, but full dataset. In this one, all the categorical Diagnosis variables have been transposed to a binary outcome, with roughly 1,400 variables.\n",
    "\n"
   ]
  },
  {
   "cell_type": "code",
   "execution_count": null,
   "metadata": {
    "collapsed": true
   },
   "outputs": [],
   "source": [
    "rf_full = RandomForestClassifier(n_estimators = 1000) #expanding this to include potentially 1000 different trees. Going for accuracy...\n",
    "rf_full.fit(X_train, y_train)\n",
    "rf_full_pred = rf_full.predict(X_test)"
   ]
  },
  {
   "cell_type": "code",
   "execution_count": null,
   "metadata": {
    "collapsed": true
   },
   "outputs": [],
   "source": [
    "print(\"Accuracy of Full Random Forest model is: \", accuracy_score(y_test, rf_full_pred))"
   ]
  },
  {
   "cell_type": "markdown",
   "metadata": {},
   "source": [
    "Random forest using 1000 different trees AND the full dataset with conditions produced the best results to date. Accuracy was 91.1%. NOTE: This model took significantly longer to train (about 4 hours). Other models were done in minutes."
   ]
  },
  {
   "cell_type": "code",
   "execution_count": null,
   "metadata": {
    "collapsed": true
   },
   "outputs": [],
   "source": [
    "rf_full_matrix = confusion_matrix(y_test, rf_full_pred)\n",
    "print(rf_full_matrix)"
   ]
  },
  {
   "cell_type": "markdown",
   "metadata": {},
   "source": [
    "4,633 out of 5,995 were correctly identified as dying within 7 days. "
   ]
  },
  {
   "cell_type": "code",
   "execution_count": null,
   "metadata": {
    "collapsed": true
   },
   "outputs": [],
   "source": [
    "print(classification_report(rf_full_pred, y_test))"
   ]
  },
  {
   "cell_type": "markdown",
   "metadata": {},
   "source": [
    "Recall for mortality is 77%, which is fantastic. Ideally, we would want precision a bit higher, but this is a great improvement when compared to other models."
   ]
  },
  {
   "cell_type": "code",
   "execution_count": null,
   "metadata": {
    "collapsed": true
   },
   "outputs": [],
   "source": [
    "import numpy as np\n",
    "\n",
    "importances = rf_full.feature_importances_\n",
    "std = np.std([tree.feature_importances_ for tree in rf_full.estimators_],\n",
    "             axis=0)\n",
    "indices = np.argsort(importances)[::-1]\n",
    "\n",
    "# Print the feature ranking\n",
    "print(\"Feature ranking:\")\n",
    "\n",
    "for f in range(X.shape[1]):\n",
    "    print(\"%d. feature %d (%f)\" % (f + 1, indices[f], importances[indices[f]]))\n"
   ]
  },
  {
   "cell_type": "code",
   "execution_count": null,
   "metadata": {
    "collapsed": true
   },
   "outputs": [],
   "source": []
  }
 ],
 "metadata": {
  "kernelspec": {
   "display_name": "Python 3",
   "language": "python",
   "name": "python3"
  },
  "language_info": {
   "codemirror_mode": {
    "name": "ipython",
    "version": 3
   },
   "file_extension": ".py",
   "mimetype": "text/x-python",
   "name": "python",
   "nbconvert_exporter": "python",
   "pygments_lexer": "ipython3",
   "version": "3.6.1"
  }
 },
 "nbformat": 4,
 "nbformat_minor": 2
}
