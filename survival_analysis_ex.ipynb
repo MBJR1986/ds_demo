{
 "cells": [
  {
   "cell_type": "markdown",
   "metadata": {},
   "source": [
    "# Survival Analysis test\n",
    "Aim 2ish: What factors are predictive of length of treatment?"
   ]
  },
  {
   "cell_type": "code",
   "execution_count": 23,
   "metadata": {},
   "outputs": [
    {
     "name": "stderr",
     "output_type": "stream",
     "text": [
      "Warning message:\n",
      "\"package 'ranger' is in use and will not be installed\"also installing the dependency 'gridExtra'\n",
      "\n"
     ]
    },
    {
     "name": "stdout",
     "output_type": "stream",
     "text": [
      "package 'gridExtra' successfully unpacked and MD5 sums checked\n",
      "package 'ggfortify' successfully unpacked and MD5 sums checked\n",
      "\n",
      "The downloaded binary packages are in\n",
      "\tC:\\Users\\MB047320\\AppData\\Local\\Temp\\RtmpYrmoLM\\downloaded_packages\n"
     ]
    }
   ],
   "source": [
    "#load libraries\n",
    "library(survival)\n",
    "install.packages(\"ranger\", repos='http://cran.us.r-project.org') \n",
    "library(ranger)\n",
    "library(dplyr)\n",
    "library(ggplot2)\n",
    "install.packages(\"ggfortify\", repos='http://cran.us.r-project.org')\n",
    "library(ggfortify)\n"
   ]
  },
  {
   "cell_type": "markdown",
   "metadata": {},
   "source": [
    "The dataset of interest is the 'veteran' data from survival package. It represents some form of RCT for lung cancer treatments."
   ]
  },
  {
   "cell_type": "code",
   "execution_count": 26,
   "metadata": {},
   "outputs": [
    {
     "data": {
      "text/html": [
       "<table>\n",
       "<thead><tr><th scope=col>trt</th><th scope=col>celltype</th><th scope=col>time</th><th scope=col>status</th><th scope=col>karno</th><th scope=col>diagtime</th><th scope=col>age</th><th scope=col>prior</th></tr></thead>\n",
       "<tbody>\n",
       "\t<tr><td>1       </td><td>squamous</td><td> 72     </td><td>1       </td><td>60      </td><td> 7      </td><td>69      </td><td> 0      </td></tr>\n",
       "\t<tr><td>1       </td><td>squamous</td><td>411     </td><td>1       </td><td>70      </td><td> 5      </td><td>64      </td><td>10      </td></tr>\n",
       "\t<tr><td>1       </td><td>squamous</td><td>228     </td><td>1       </td><td>60      </td><td> 3      </td><td>38      </td><td> 0      </td></tr>\n",
       "\t<tr><td>1       </td><td>squamous</td><td>126     </td><td>1       </td><td>60      </td><td> 9      </td><td>63      </td><td>10      </td></tr>\n",
       "\t<tr><td>1       </td><td>squamous</td><td>118     </td><td>1       </td><td>70      </td><td>11      </td><td>65      </td><td>10      </td></tr>\n",
       "\t<tr><td>1       </td><td>squamous</td><td> 10     </td><td>1       </td><td>20      </td><td> 5      </td><td>49      </td><td> 0      </td></tr>\n",
       "</tbody>\n",
       "</table>\n"
      ],
      "text/latex": [
       "\\begin{tabular}{r|llllllll}\n",
       " trt & celltype & time & status & karno & diagtime & age & prior\\\\\n",
       "\\hline\n",
       "\t 1        & squamous &  72      & 1        & 60       &  7       & 69       &  0      \\\\\n",
       "\t 1        & squamous & 411      & 1        & 70       &  5       & 64       & 10      \\\\\n",
       "\t 1        & squamous & 228      & 1        & 60       &  3       & 38       &  0      \\\\\n",
       "\t 1        & squamous & 126      & 1        & 60       &  9       & 63       & 10      \\\\\n",
       "\t 1        & squamous & 118      & 1        & 70       & 11       & 65       & 10      \\\\\n",
       "\t 1        & squamous &  10      & 1        & 20       &  5       & 49       &  0      \\\\\n",
       "\\end{tabular}\n"
      ],
      "text/markdown": [
       "\n",
       "trt | celltype | time | status | karno | diagtime | age | prior | \n",
       "|---|---|---|---|---|---|\n",
       "| 1        | squamous |  72      | 1        | 60       |  7       | 69       |  0       | \n",
       "| 1        | squamous | 411      | 1        | 70       |  5       | 64       | 10       | \n",
       "| 1        | squamous | 228      | 1        | 60       |  3       | 38       |  0       | \n",
       "| 1        | squamous | 126      | 1        | 60       |  9       | 63       | 10       | \n",
       "| 1        | squamous | 118      | 1        | 70       | 11       | 65       | 10       | \n",
       "| 1        | squamous |  10      | 1        | 20       |  5       | 49       |  0       | \n",
       "\n",
       "\n"
      ],
      "text/plain": [
       "  trt celltype time status karno diagtime age prior\n",
       "1 1   squamous  72  1      60     7       69   0   \n",
       "2 1   squamous 411  1      70     5       64  10   \n",
       "3 1   squamous 228  1      60     3       38   0   \n",
       "4 1   squamous 126  1      60     9       63  10   \n",
       "5 1   squamous 118  1      70    11       65  10   \n",
       "6 1   squamous  10  1      20     5       49   0   "
      ]
     },
     "metadata": {},
     "output_type": "display_data"
    }
   ],
   "source": [
    "data(veteran)\n",
    "head(veteran)"
   ]
  },
  {
   "cell_type": "markdown",
   "metadata": {},
   "source": [
    "# Variables:\n",
    "trt = 1 (standard), 2 (test) <br>\n",
    "celltype = type of lung cancer cell  <br>\n",
    "time = survival time in days <br>\n",
    "status = censoring status (1 indicates observed death) <br>\n",
    "karno = performance score (100 = good) <br>\n",
    "diagtime = months from diagnosis to randomization <br>\n",
    "age = yrs <br>\n",
    "prior = prior therapy; 0 = no, 10 = yes\n",
    "\n"
   ]
  },
  {
   "cell_type": "markdown",
   "metadata": {},
   "source": [
    "## Kaplan Meier Analysis"
   ]
  },
  {
   "cell_type": "code",
   "execution_count": 28,
   "metadata": {
    "collapsed": true
   },
   "outputs": [],
   "source": [
    "#surv() to build survival object\n",
    "km <- with(veteran, Surv(time, status))"
   ]
  },
  {
   "cell_type": "code",
   "execution_count": 29,
   "metadata": {},
   "outputs": [
    {
     "data": {
      "text/plain": [
       " [1]  72  411  228  126  118   10   82  110  314  100+  42    8  144   25+  11 \n",
       "[16]  30  384    4   54   13 "
      ]
     },
     "metadata": {},
     "output_type": "display_data"
    }
   ],
   "source": [
    "head(km, 20)"
   ]
  },
  {
   "cell_type": "markdown",
   "metadata": {},
   "source": [
    "Note that any '+' observed in dataframe indicates right censoring, or the absence of the event of interest during the study period. <br>\n",
    "<br>\n",
    "Next, produce Kaplan Meier estimates of the probability of survival over time."
   ]
  },
  {
   "cell_type": "code",
   "execution_count": 31,
   "metadata": {},
   "outputs": [
    {
     "data": {
      "text/plain": [
       "Call: survfit(formula = Surv(time, status) ~ 1, data = veteran)\n",
       "\n",
       " time n.risk n.event survival std.err lower 95% CI upper 95% CI\n",
       "    1    137       2    0.985  0.0102      0.96552       1.0000\n",
       "   30     97      39    0.700  0.0392      0.62774       0.7816\n",
       "   60     73      22    0.538  0.0427      0.46070       0.6288\n",
       "   90     62      10    0.464  0.0428      0.38731       0.5560\n",
       "  180     27      30    0.222  0.0369      0.16066       0.3079\n",
       "  270     16       9    0.144  0.0319      0.09338       0.2223\n",
       "  360     10       6    0.090  0.0265      0.05061       0.1602\n",
       "  450      5       5    0.045  0.0194      0.01931       0.1049\n",
       "  540      4       1    0.036  0.0175      0.01389       0.0934\n",
       "  630      2       2    0.018  0.0126      0.00459       0.0707\n",
       "  720      2       0    0.018  0.0126      0.00459       0.0707\n",
       "  810      2       0    0.018  0.0126      0.00459       0.0707\n",
       "  900      2       0    0.018  0.0126      0.00459       0.0707"
      ]
     },
     "metadata": {},
     "output_type": "display_data"
    }
   ],
   "source": [
    "km_fit <- survfit(Surv(time,status)~1, data = veteran)\n",
    "summary(km_fit, times = c(1,30,60,90*(1:10))) #prints estimates for 1,30,etc, days, then every 90 days after"
   ]
  },
  {
   "cell_type": "code",
   "execution_count": 32,
   "metadata": {},
   "outputs": [
    {
     "data": {},
     "metadata": {},
     "output_type": "display_data"
    },
    {
     "data": {
      "image/png": "[encoded data removed]",
      "text/plain": [
       "plot without title"
      ]
     },
     "metadata": {},
     "output_type": "display_data"
    }
   ],
   "source": [
    "#plot general survival curve\n",
    "autoplot(km_fit)"
   ]
  },
  {
   "cell_type": "code",
   "execution_count": 34,
   "metadata": {},
   "outputs": [
    {
     "data": {},
     "metadata": {},
     "output_type": "display_data"
    },
    {
     "data": {
      "image/png": "[encoded data removed]",
      "text/plain": [
       "plot without title"
      ]
     },
     "metadata": {},
     "output_type": "display_data"
    }
   ],
   "source": [
    "#plot survival curve by treatment (aka strata)\n",
    "km_trt_fit <- survfit(Surv(time,status)~ trt, data = veteran) #need to refit with trt as a grouper\n",
    "autoplot(km_trt_fit)"
   ]
  },
  {
   "cell_type": "markdown",
   "metadata": {},
   "source": [
    "For exploratory purposes, looking at survival by age could be worthwhile. Since the dataset is made up of older veterans, 60 years of age was used to dichotomize the dataset."
   ]
  },
  {
   "cell_type": "code",
   "execution_count": 41,
   "metadata": {},
   "outputs": [
    {
     "data": {},
     "metadata": {},
     "output_type": "display_data"
    },
    {
     "data": {
      "image/png": "[encoded data removed]",
      "text/plain": [
       "plot without title"
      ]
     },
     "metadata": {},
     "output_type": "display_data"
    }
   ],
   "source": [
    "#create new dataframe with age separated into dummy (60yo)\n",
    "vet <- mutate(veteran, AG = ifelse((age < 60), \"LT60\", \"OV60\"),\n",
    "             AG = factor(AG),\n",
    "             trt = factor(trt, labels = c(\"standard\", \"test\")),\n",
    "             prior = factor(prior, labels = c(\"NO\", \"YES\")))\n",
    "km_AG_fit <- survfit(Surv(time,status) ~ AG, data = vet)\n",
    "autoplot(km_AG_fit)"
   ]
  },
  {
   "cell_type": "markdown",
   "metadata": {},
   "source": [
    "Although the 2 curves appear to overlap a bit in the first 50 days, younger patients clearly have a better chance of surviving more than a year."
   ]
  },
  {
   "cell_type": "markdown",
   "metadata": {},
   "source": [
    "<br>\n",
    "<br>\n",
    "\n",
    "# Cox Proportional Hazards Model"
   ]
  },
  {
   "cell_type": "markdown",
   "metadata": {},
   "source": [
    "https://en.wikipedia.org/wiki/Proportional_hazards_model <br>\n",
    "makes use of all the covariates in the data set."
   ]
  },
  {
   "cell_type": "code",
   "execution_count": 43,
   "metadata": {},
   "outputs": [
    {
     "data": {
      "text/plain": [
       "Call:\n",
       "coxph(formula = Surv(time, status) ~ trt + celltype + karno + \n",
       "    diagtime + age + prior, data = vet)\n",
       "\n",
       "  n= 137, number of events= 128 \n",
       "\n",
       "                        coef  exp(coef)   se(coef)      z Pr(>|z|)    \n",
       "trttest            2.946e-01  1.343e+00  2.075e-01  1.419  0.15577    \n",
       "celltypesmallcell  8.616e-01  2.367e+00  2.753e-01  3.130  0.00175 ** \n",
       "celltypeadeno      1.196e+00  3.307e+00  3.009e-01  3.975 7.05e-05 ***\n",
       "celltypelarge      4.013e-01  1.494e+00  2.827e-01  1.420  0.15574    \n",
       "karno             -3.282e-02  9.677e-01  5.508e-03 -5.958 2.55e-09 ***\n",
       "diagtime           8.132e-05  1.000e+00  9.136e-03  0.009  0.99290    \n",
       "age               -8.706e-03  9.913e-01  9.300e-03 -0.936  0.34920    \n",
       "priorYES           7.159e-02  1.074e+00  2.323e-01  0.308  0.75794    \n",
       "---\n",
       "Signif. codes:  0 '***' 0.001 '**' 0.01 '*' 0.05 '.' 0.1 ' ' 1\n",
       "\n",
       "                  exp(coef) exp(-coef) lower .95 upper .95\n",
       "trttest              1.3426     0.7448    0.8939    2.0166\n",
       "celltypesmallcell    2.3669     0.4225    1.3799    4.0597\n",
       "celltypeadeno        3.3071     0.3024    1.8336    5.9647\n",
       "celltypelarge        1.4938     0.6695    0.8583    2.5996\n",
       "karno                0.9677     1.0334    0.9573    0.9782\n",
       "diagtime             1.0001     0.9999    0.9823    1.0182\n",
       "age                  0.9913     1.0087    0.9734    1.0096\n",
       "priorYES             1.0742     0.9309    0.6813    1.6937\n",
       "\n",
       "Concordance= 0.736  (se = 0.03 )\n",
       "Rsquare= 0.364   (max possible= 0.999 )\n",
       "Likelihood ratio test= 62.1  on 8 df,   p=1.799e-10\n",
       "Wald test            = 62.37  on 8 df,   p=1.596e-10\n",
       "Score (logrank) test = 66.74  on 8 df,   p=2.186e-11\n"
      ]
     },
     "metadata": {},
     "output_type": "display_data"
    }
   ],
   "source": [
    "cox <- coxph(Surv(time, status) ~ trt + celltype + karno + diagtime + age + prior , data = vet)\n",
    "summary(cox)"
   ]
  },
  {
   "cell_type": "code",
   "execution_count": 45,
   "metadata": {},
   "outputs": [
    {
     "data": {},
     "metadata": {},
     "output_type": "display_data"
    },
    {
     "data": {
      "image/png": "[encoded data removed]",
      "text/plain": [
       "plot without title"
      ]
     },
     "metadata": {},
     "output_type": "display_data"
    }
   ],
   "source": [
    "cox_fit <- survfit(cox)\n",
    "autoplot(cox_fit)"
   ]
  },
  {
   "cell_type": "markdown",
   "metadata": {},
   "source": [
    "model flags small cell type, adeno cell type, and karno as significant covariates. But interpretation needs to assume covariates don't vary with time. Karno is time dependent, so the assumption for Cox model are not met. (there are strategies for dealing with this here:) <br>\n",
    "https://cran.r-project.org/web/packages/survival/vignettes/timedep.pdf"
   ]
  },
  {
   "cell_type": "markdown",
   "metadata": {},
   "source": [
    "ROC-like statistic could be calculated, called Concordance statistic, and represents probability of agreement for any two randomly chosen observations, where in this case agreement means that the observation with the shorter survival time of the two also has the larger risk score. The predictor (or risk score) will often be the result of a cox model or other regression. For continuous covariates, concordance is equivalent to Kendall's Tau, and for logistic regress it is equivalent to AUC ROC."
   ]
  },
  {
   "cell_type": "markdown",
   "metadata": {},
   "source": [
    "<br>\n",
    "<br>\n",
    "# Random Forests Model"
   ]
  },
  {
   "cell_type": "markdown",
   "metadata": {},
   "source": [
    "Use ranger() function to fit a Random Forest ensemble model to the data. Ranger builds a model for each observation in the dataset. The next block of code builds the model using the same variables used in the Cox model above and plots 20 random curves, along with a curve that represetns the global average for all patients."
   ]
  },
  {
   "cell_type": "code",
   "execution_count": 46,
   "metadata": {},
   "outputs": [
    {
     "data": {
      "image/png": "[encoded data removed]",
      "text/plain": [
       "Plot with title \"Patient Survival Curves\""
      ]
     },
     "metadata": {},
     "output_type": "display_data"
    }
   ],
   "source": [
    "# ranger model\n",
    "r_fit <- ranger(Surv(time, status) ~ trt + celltype + \n",
    "                     karno + diagtime + age + prior,\n",
    "                     data = vet,\n",
    "                     mtry = 4,\n",
    "                     importance = \"permutation\",\n",
    "                     splitrule = \"extratrees\",\n",
    "                     verbose = TRUE)\n",
    "\n",
    "# Average the survival models\n",
    "death_times <- r_fit$unique.death.times \n",
    "surv_prob <- data.frame(r_fit$survival)\n",
    "avg_prob <- sapply(surv_prob,mean)\n",
    "\n",
    "# Plot the survival models for each patient\n",
    "plot(r_fit$unique.death.times,r_fit$survival[1,], \n",
    "     type = \"l\", \n",
    "     ylim = c(0,1),\n",
    "     col = \"red\",\n",
    "     xlab = \"Days\",\n",
    "     ylab = \"survival\",\n",
    "     main = \"Patient Survival Curves\")\n",
    "\n",
    "#\n",
    "cols <- colors()\n",
    "for (n in sample(c(2:dim(vet)[1]), 20)){\n",
    "  lines(r_fit$unique.death.times, r_fit$survival[n,], type = \"l\", col = cols[n])\n",
    "}\n",
    "lines(death_times, avg_prob, lwd = 2)\n",
    "legend(500, 0.7, legend = c('Average = black'))"
   ]
  },
  {
   "cell_type": "code",
   "execution_count": 48,
   "metadata": {},
   "outputs": [
    {
     "data": {
      "text/html": [
       "<table>\n",
       "<thead><tr><th></th><th scope=col>importance</th></tr></thead>\n",
       "<tbody>\n",
       "\t<tr><th scope=row>karno</th><td> 0.0919</td></tr>\n",
       "\t<tr><th scope=row>celltype</th><td> 0.0340</td></tr>\n",
       "\t<tr><th scope=row>diagtime</th><td> 0.0036</td></tr>\n",
       "\t<tr><th scope=row>prior</th><td> 0.0012</td></tr>\n",
       "\t<tr><th scope=row>trt</th><td>-0.0011</td></tr>\n",
       "\t<tr><th scope=row>age</th><td>-0.0037</td></tr>\n",
       "</tbody>\n",
       "</table>\n"
      ],
      "text/latex": [
       "\\begin{tabular}{r|l}\n",
       "  & importance\\\\\n",
       "\\hline\n",
       "\tkarno &  0.0919\\\\\n",
       "\tcelltype &  0.0340\\\\\n",
       "\tdiagtime &  0.0036\\\\\n",
       "\tprior &  0.0012\\\\\n",
       "\ttrt & -0.0011\\\\\n",
       "\tage & -0.0037\\\\\n",
       "\\end{tabular}\n"
      ],
      "text/markdown": [
       "\n",
       "| <!--/--> | importance | \n",
       "|---|---|---|---|---|---|\n",
       "| karno |  0.0919 | \n",
       "| celltype |  0.0340 | \n",
       "| diagtime |  0.0036 | \n",
       "| prior |  0.0012 | \n",
       "| trt | -0.0011 | \n",
       "| age | -0.0037 | \n",
       "\n",
       "\n"
      ],
      "text/plain": [
       "         importance\n",
       "karno     0.0919   \n",
       "celltype  0.0340   \n",
       "diagtime  0.0036   \n",
       "prior     0.0012   \n",
       "trt      -0.0011   \n",
       "age      -0.0037   "
      ]
     },
     "metadata": {},
     "output_type": "display_data"
    }
   ],
   "source": [
    "#Ranger rank of variable importance\n",
    "vi <- data.frame(sort(round(r_fit$variable.importance, 4), decreasing = TRUE))\n",
    "names(vi) <- \"importance\"\n",
    "head(vi)\n"
   ]
  },
  {
   "cell_type": "markdown",
   "metadata": {},
   "source": [
    "Ranger flagged karno and celltype as the two most important variables, the same variables with the lowest p-values in the Cox model. (notice that there are no level names, as tree-based models don't dummify factors)<br>\n",
    "<br>\n",
    "Ranger does compute Harrell's c-index, again similar to the Concordance statistic. Generalizes as the ROC, which is reduced to the Wilcoxon-Mann-Whitney stat for binary variables (again, similar to AUC ROC)"
   ]
  },
  {
   "cell_type": "code",
   "execution_count": 50,
   "metadata": {},
   "outputs": [
    {
     "name": "stdout",
     "output_type": "stream",
     "text": [
      "Prediction Error = 1 - Harrell's c-index =  0.2997501"
     ]
    }
   ],
   "source": [
    "cat(\"Prediction Error = 1 - Harrell's c-index = \", r_fit$prediction.error)"
   ]
  },
  {
   "cell_type": "markdown",
   "metadata": {},
   "source": [
    "An ROC > .60 would be pretty good for the first try (i.e. Harrell's index in this case is 1 - .299 = .701). But it should be noted that time-varying data elements (karno...) aren't converted or controlled. But helpful to plot for interpretation."
   ]
  },
  {
   "cell_type": "code",
   "execution_count": 53,
   "metadata": {
    "collapsed": true
   },
   "outputs": [],
   "source": [
    "# Set up for ggplot\n",
    "kmi <- rep(\"KM\",length(km_fit$time))\n",
    "km_df <- data.frame(km_fit$time,km_fit$surv,kmi)\n",
    "names(km_df) <- c(\"Time\",\"Surv\",\"Model\")\n",
    "\n",
    "coxi <- rep(\"Cox\",length(cox_fit$time))\n",
    "cox_df <- data.frame(cox_fit$time,cox_fit$surv,coxi)\n",
    "names(cox_df) <- c(\"Time\",\"Surv\",\"Model\")\n",
    "\n",
    "rfi <- rep(\"RF\",length(r_fit$unique.death.times))\n",
    "rf_df <- data.frame(r_fit$unique.death.times,avg_prob,rfi)\n",
    "names(rf_df) <- c(\"Time\",\"Surv\",\"Model\")"
   ]
  },
  {
   "cell_type": "code",
   "execution_count": 54,
   "metadata": {},
   "outputs": [
    {
     "data": {},
     "metadata": {},
     "output_type": "display_data"
    },
    {
     "data": {
      "image/png": "[encoded data removed]",
      "text/plain": [
       "plot without title"
      ]
     },
     "metadata": {},
     "output_type": "display_data"
    }
   ],
   "source": [
    "plot_df <- rbind(km_df, cox_df, rf_df)\n",
    "\n",
    "p <- ggplot(plot_df, aes(x = Time, y = Surv, color = Model))\n",
    "p + geom_line()"
   ]
  },
  {
   "cell_type": "markdown",
   "metadata": {},
   "source": [
    "For this dataset, the best option might be a carefully constructed Cox model that takes into account the time varying components to Karno variable. There likely isn't enough data for the ranger() package to perform better, nor enough explanatory variables.<br>\n"
   ]
  }
 ],
 "metadata": {
  "kernelspec": {
   "display_name": "R",
   "language": "R",
   "name": "ir"
  },
  "language_info": {
   "codemirror_mode": "r",
   "file_extension": ".r",
   "mimetype": "text/x-r-source",
   "name": "R",
   "pygments_lexer": "r",
   "version": "3.4.1"
  }
 },
 "nbformat": 4,
 "nbformat_minor": 2
}
